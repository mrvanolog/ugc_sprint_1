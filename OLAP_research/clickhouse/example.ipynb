{
 "metadata": {
  "language_info": {
   "codemirror_mode": {
    "name": "ipython",
    "version": 3
   },
   "file_extension": ".py",
   "mimetype": "text/x-python",
   "name": "python",
   "nbconvert_exporter": "python",
   "pygments_lexer": "ipython3",
   "version": "3.8.3-final"
  },
  "orig_nbformat": 2,
  "kernelspec": {
   "name": "python383jvsc74a57bd0d3a676a176e83dec0804f6c20996629c4b479d447981ed09cdea4cd9f2703bd6",
   "display_name": "Python 3.8.3 64-bit ('base': conda)"
  }
 },
 "nbformat": 4,
 "nbformat_minor": 2,
 "cells": [
  {
   "cell_type": "code",
   "execution_count": 53,
   "metadata": {},
   "outputs": [],
   "source": [
    "from clickhouse_driver import Client\n",
    "\n",
    "client = Client(host='localhost')"
   ]
  },
  {
   "cell_type": "code",
   "execution_count": 54,
   "metadata": {},
   "outputs": [
    {
     "output_type": "execute_result",
     "data": {
      "text/plain": [
       "[('_temporary_and_external_tables',),\n",
       " ('analysis',),\n",
       " ('default',),\n",
       " ('replica',),\n",
       " ('shard',),\n",
       " ('system',)]"
      ]
     },
     "metadata": {},
     "execution_count": 54
    }
   ],
   "source": [
    "client.execute('SHOW DATABASES')"
   ]
  },
  {
   "source": [
    "### Проводим измерения во время загрузки данных"
   ],
   "cell_type": "markdown",
   "metadata": {}
  },
  {
   "cell_type": "code",
   "execution_count": 62,
   "metadata": {},
   "outputs": [
    {
     "output_type": "stream",
     "name": "stdout",
     "text": [
      "CPU times: user 1.49 ms, sys: 1.8 ms, total: 3.29 ms\nWall time: 35.8 ms\n"
     ]
    },
    {
     "output_type": "execute_result",
     "data": {
      "text/plain": [
       "[(5685131,)]"
      ]
     },
     "metadata": {},
     "execution_count": 62
    }
   ],
   "source": [
    "%%time\n",
    "client.execute('SELECT count() FROM analysis.viewed_progress')"
   ]
  },
  {
   "cell_type": "code",
   "execution_count": 63,
   "metadata": {},
   "outputs": [
    {
     "output_type": "stream",
     "name": "stdout",
     "text": [
      "CPU times: user 1.82 ms, sys: 1.82 ms, total: 3.64 ms\nWall time: 392 ms\n"
     ]
    },
    {
     "output_type": "execute_result",
     "data": {
      "text/plain": [
       "[(10000,)]"
      ]
     },
     "metadata": {},
     "execution_count": 63
    }
   ],
   "source": [
    "%%time\n",
    "client.execute('SELECT uniqExact(movie_id) FROM analysis.viewed_progress')"
   ]
  },
  {
   "cell_type": "code",
   "execution_count": 64,
   "metadata": {},
   "outputs": [
    {
     "output_type": "stream",
     "name": "stdout",
     "text": [
      "CPU times: user 1.8 ms, sys: 1.9 ms, total: 3.7 ms\nWall time: 275 ms\n"
     ]
    },
    {
     "output_type": "execute_result",
     "data": {
      "text/plain": [
       "[(10000,)]"
      ]
     },
     "metadata": {},
     "execution_count": 64
    }
   ],
   "source": [
    "%%time\n",
    "client.execute('SELECT uniqExact(user_id) FROM analysis.viewed_progress')"
   ]
  },
  {
   "cell_type": "code",
   "execution_count": 65,
   "metadata": {},
   "outputs": [
    {
     "output_type": "stream",
     "name": "stdout",
     "text": [
      "CPU times: user 40.3 ms, sys: 11.5 ms, total: 51.8 ms\nWall time: 9.31 s\n"
     ]
    }
   ],
   "source": [
    "%%time\n",
    "data = client.execute(\n",
    "    \"\"\"\n",
    "    SELECT \n",
    "        user_id, \n",
    "        uniqExact(movie_id) \n",
    "    FROM analysis.viewed_progress\n",
    "    GROUP by user_id\n",
    "    \"\"\"\n",
    ")"
   ]
  },
  {
   "cell_type": "code",
   "execution_count": 66,
   "metadata": {},
   "outputs": [
    {
     "output_type": "stream",
     "name": "stdout",
     "text": [
      "CPU times: user 9.18 ms, sys: 3.44 ms, total: 12.6 ms\nWall time: 1.68 s\n"
     ]
    }
   ],
   "source": [
    "%%time\n",
    "data = client.execute(\n",
    "    \"\"\"\n",
    "    SELECT \n",
    "        user_id, \n",
    "        sum(viewed_frame),\n",
    "        max(viewed_frame) \n",
    "    FROM analysis.viewed_progress\n",
    "    GROUP by user_id\n",
    "    \"\"\"\n",
    ")"
   ]
  },
  {
   "cell_type": "code",
   "execution_count": 68,
   "metadata": {},
   "outputs": [
    {
     "output_type": "stream",
     "name": "stdout",
     "text": [
      "CPU times: user 5.88 ms, sys: 2.54 ms, total: 8.41 ms\nWall time: 414 ms\n"
     ]
    }
   ],
   "source": [
    "%%time\n",
    "data = client.execute(\n",
    "    \"\"\"\n",
    "    SELECT \n",
    "        user_id, \n",
    "        sum(viewed_frame),\n",
    "        max(viewed_frame) \n",
    "    FROM analysis.viewed_progress\n",
    "    WHERE event_time > '2021-04-13 23:09:02'\n",
    "    GROUP by user_id\n",
    "    \"\"\"\n",
    ")"
   ]
  },
  {
   "cell_type": "code",
   "execution_count": 67,
   "metadata": {},
   "outputs": [
    {
     "output_type": "stream",
     "name": "stdout",
     "text": [
      "CPU times: user 2.22 ms, sys: 1.9 ms, total: 4.13 ms\nWall time: 961 ms\n"
     ]
    },
    {
     "output_type": "execute_result",
     "data": {
      "text/plain": [
       "[(6091478,)]"
      ]
     },
     "metadata": {},
     "execution_count": 67
    }
   ],
   "source": [
    "%%time\n",
    "client.execute('SELECT count() FROM analysis.viewed_progress')"
   ]
  },
  {
   "source": [
    "### Проводим измерения после загрузки 10 000 000 строк"
   ],
   "cell_type": "markdown",
   "metadata": {}
  },
  {
   "cell_type": "code",
   "execution_count": 75,
   "metadata": {},
   "outputs": [
    {
     "output_type": "stream",
     "name": "stdout",
     "text": [
      "CPU times: user 1.44 ms, sys: 1.72 ms, total: 3.17 ms\nWall time: 18.6 ms\n"
     ]
    },
    {
     "output_type": "execute_result",
     "data": {
      "text/plain": [
       "[(10000000,)]"
      ]
     },
     "metadata": {},
     "execution_count": 75
    }
   ],
   "source": [
    "%%time\n",
    "client.execute('SELECT count() FROM analysis.viewed_progress')"
   ]
  },
  {
   "cell_type": "code",
   "execution_count": 76,
   "metadata": {},
   "outputs": [
    {
     "output_type": "stream",
     "name": "stdout",
     "text": [
      "CPU times: user 1.29 ms, sys: 1.37 ms, total: 2.67 ms\nWall time: 225 ms\n"
     ]
    },
    {
     "output_type": "execute_result",
     "data": {
      "text/plain": [
       "[(10000,)]"
      ]
     },
     "metadata": {},
     "execution_count": 76
    }
   ],
   "source": [
    "%%time\n",
    "client.execute('SELECT uniqExact(movie_id) FROM analysis.viewed_progress')"
   ]
  },
  {
   "cell_type": "code",
   "execution_count": 77,
   "metadata": {},
   "outputs": [
    {
     "output_type": "stream",
     "name": "stdout",
     "text": [
      "CPU times: user 1.44 ms, sys: 1.58 ms, total: 3.02 ms\nWall time: 178 ms\n"
     ]
    },
    {
     "output_type": "execute_result",
     "data": {
      "text/plain": [
       "[(10000,)]"
      ]
     },
     "metadata": {},
     "execution_count": 77
    }
   ],
   "source": [
    "%%time\n",
    "client.execute('SELECT uniqExact(user_id) FROM analysis.viewed_progress')"
   ]
  },
  {
   "cell_type": "code",
   "execution_count": 78,
   "metadata": {},
   "outputs": [
    {
     "output_type": "stream",
     "name": "stdout",
     "text": [
      "CPU times: user 38.4 ms, sys: 9.14 ms, total: 47.5 ms\nWall time: 20.2 s\n"
     ]
    }
   ],
   "source": [
    "%%time\n",
    "data = client.execute(\n",
    "    \"\"\"\n",
    "    SELECT \n",
    "        user_id, \n",
    "        uniqExact(movie_id) \n",
    "    FROM analysis.viewed_progress\n",
    "    GROUP by user_id\n",
    "    \"\"\"\n",
    ")"
   ]
  },
  {
   "cell_type": "code",
   "execution_count": 79,
   "metadata": {},
   "outputs": [
    {
     "output_type": "stream",
     "name": "stdout",
     "text": [
      "CPU times: user 6.28 ms, sys: 2.27 ms, total: 8.55 ms\nWall time: 503 ms\n"
     ]
    }
   ],
   "source": [
    "%%time\n",
    "data = client.execute(\n",
    "    \"\"\"\n",
    "    SELECT \n",
    "        user_id, \n",
    "        sum(viewed_frame),\n",
    "        max(viewed_frame) \n",
    "    FROM analysis.viewed_progress\n",
    "    GROUP by user_id\n",
    "    \"\"\"\n",
    ")"
   ]
  },
  {
   "cell_type": "code",
   "execution_count": 80,
   "metadata": {},
   "outputs": [
    {
     "output_type": "stream",
     "name": "stdout",
     "text": [
      "CPU times: user 4.69 ms, sys: 2.11 ms, total: 6.81 ms\nWall time: 231 ms\n"
     ]
    }
   ],
   "source": [
    "%%time\n",
    "data = client.execute(\n",
    "    \"\"\"\n",
    "    SELECT \n",
    "        user_id, \n",
    "        sum(viewed_frame),\n",
    "        max(viewed_frame) \n",
    "    FROM analysis.viewed_progress\n",
    "    WHERE event_time > '2021-04-13 23:09:02'\n",
    "    GROUP by user_id\n",
    "    \"\"\"\n",
    ")"
   ]
  }
 ]
}